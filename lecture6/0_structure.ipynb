{
 "cells": [
  {
   "cell_type": "markdown",
   "metadata": {},
   "source": [
    "# Lecture 6. Computer vision tasks\n",
    "- [Keypoint detection](keypoints.ipynb)\n",
    "- [Object detection](obj_detect.ipynb)\n",
    "- [Generative Adversarial Networks (GANs)](gan.ipynb)\n",
    "- [Other Generative Models](other_generative_models.ipynb)"
   ]
  },
  {
   "cell_type": "markdown",
   "metadata": {},
   "source": []
  }
 ],
 "metadata": {
  "language_info": {
   "name": "python"
  }
 },
 "nbformat": 4,
 "nbformat_minor": 2
}
